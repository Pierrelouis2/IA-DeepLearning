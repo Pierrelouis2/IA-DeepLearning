{
 "cells": [
  {
   "cell_type": "markdown",
   "metadata": {},
   "source": [
    "Chargez le jeu de données Reuters à l’aide de tf.keras.datasets.reuters."
   ]
  },
  {
   "cell_type": "code",
   "execution_count": 1,
   "metadata": {},
   "outputs": [],
   "source": [
    "from tensorflow.keras.datasets import reuters\n",
    "from tensorflow.keras.preprocessing.sequence import pad_sequences\n",
    "from sklearn.model_selection import train_test_split\n"
   ]
  },
  {
   "cell_type": "markdown",
   "metadata": {},
   "source": [
    "Prétraitez les données en veillant à convertir les textes en séquences de tokens numériques compatibles avec le modèle. Utilisez des techniques comme la tokenisation et le padding pour obtenir des séquences de longueur uniforme."
   ]
  },
  {
   "cell_type": "code",
   "execution_count": 2,
   "metadata": {},
   "outputs": [
    {
     "name": "stdout",
     "output_type": "stream",
     "text": [
      "Training data shape: (8982, 100)\n",
      "Testing data shape: (2246, 100)\n",
      "Training labels shape: (8982,)\n",
      "Testing labels shape: (2246,)\n",
      "Training data shape: (7185, 100)\n",
      "Validation data shape: (1797, 100)\n",
      "Training labels shape: (7185,)\n",
      "Validation labels shape: (1797,)\n"
     ]
    }
   ],
   "source": [
    "# Load Reuters Dataset\n",
    "(num_words, max_length) = (10000, 100)  # Adjust num_words and max_length as needed\n",
    "(X_train, y_train), (X_test, y_test) = reuters.load_data(num_words=num_words)\n",
    "\n",
    "word_index = reuters.get_word_index()\n",
    "# Decode a sample review\n",
    "reverse_word_index = {value: key for key, value in word_index.items()}\n",
    "decoded_review = ' '.join([reverse_word_index.get(i - 3, '?') for i in X_train[0]])\n",
    "\n",
    "\n",
    "# Padding Sequences\n",
    "X_train_padded = pad_sequences(X_train, maxlen=max_length, padding='post')\n",
    "X_test_padded = pad_sequences(X_test, maxlen=max_length, padding='post')\n",
    "\n",
    "# Print shapes of the datasets\n",
    "print(f'Training data shape: {X_train_padded.shape}')\n",
    "print(f'Testing data shape: {X_test_padded.shape}')\n",
    "print(f'Training labels shape: {y_train.shape}')\n",
    "print(f'Testing labels shape: {y_test.shape}')\n",
    "\n",
    "# Split training data into training and validation sets\n",
    "X_train_padded, X_val_padded, y_train, y_val = train_test_split(X_train_padded, y_train, test_size=0.2, random_state=42)\n",
    "\n",
    "# Print shapes of the datasets\n",
    "print(f'Training data shape: {X_train_padded.shape}')\n",
    "print(f'Validation data shape: {X_val_padded.shape}')\n",
    "print(f'Training labels shape: {y_train.shape}')\n",
    "print(f'Validation labels shape: {y_val.shape}')"
   ]
  },
  {
   "cell_type": "code",
   "execution_count": 5,
   "metadata": {},
   "outputs": [
    {
     "name": "stderr",
     "output_type": "stream",
     "text": [
      "c:\\Users\\pltel\\Documents\\IA-DeepLearning\\.venv\\Lib\\site-packages\\keras\\src\\layers\\core\\embedding.py:90: UserWarning: Argument `input_length` is deprecated. Just remove it.\n",
      "  warnings.warn(\n"
     ]
    },
    {
     "data": {
      "text/html": [
       "<pre style=\"white-space:pre;overflow-x:auto;line-height:normal;font-family:Menlo,'DejaVu Sans Mono',consolas,'Courier New',monospace\"><span style=\"font-weight: bold\">Model: \"sequential_2\"</span>\n",
       "</pre>\n"
      ],
      "text/plain": [
       "\u001b[1mModel: \"sequential_2\"\u001b[0m\n"
      ]
     },
     "metadata": {},
     "output_type": "display_data"
    },
    {
     "data": {
      "text/html": [
       "<pre style=\"white-space:pre;overflow-x:auto;line-height:normal;font-family:Menlo,'DejaVu Sans Mono',consolas,'Courier New',monospace\">┏━━━━━━━━━━━━━━━━━━━━━━━━━━━━━━━━━┳━━━━━━━━━━━━━━━━━━━━━━━━┳━━━━━━━━━━━━━━━┓\n",
       "┃<span style=\"font-weight: bold\"> Layer (type)                    </span>┃<span style=\"font-weight: bold\"> Output Shape           </span>┃<span style=\"font-weight: bold\">       Param # </span>┃\n",
       "┡━━━━━━━━━━━━━━━━━━━━━━━━━━━━━━━━━╇━━━━━━━━━━━━━━━━━━━━━━━━╇━━━━━━━━━━━━━━━┩\n",
       "│ embedding_1 (<span style=\"color: #0087ff; text-decoration-color: #0087ff\">Embedding</span>)         │ (<span style=\"color: #00d7ff; text-decoration-color: #00d7ff\">None</span>, <span style=\"color: #00af00; text-decoration-color: #00af00\">100</span>, <span style=\"color: #00af00; text-decoration-color: #00af00\">128</span>)       │     <span style=\"color: #00af00; text-decoration-color: #00af00\">1,280,000</span> │\n",
       "├─────────────────────────────────┼────────────────────────┼───────────────┤\n",
       "│ flatten_1 (<span style=\"color: #0087ff; text-decoration-color: #0087ff\">Flatten</span>)             │ (<span style=\"color: #00d7ff; text-decoration-color: #00d7ff\">None</span>, <span style=\"color: #00af00; text-decoration-color: #00af00\">12800</span>)          │             <span style=\"color: #00af00; text-decoration-color: #00af00\">0</span> │\n",
       "├─────────────────────────────────┼────────────────────────┼───────────────┤\n",
       "│ dense_2 (<span style=\"color: #0087ff; text-decoration-color: #0087ff\">Dense</span>)                 │ (<span style=\"color: #00d7ff; text-decoration-color: #00d7ff\">None</span>, <span style=\"color: #00af00; text-decoration-color: #00af00\">128</span>)            │     <span style=\"color: #00af00; text-decoration-color: #00af00\">1,638,528</span> │\n",
       "├─────────────────────────────────┼────────────────────────┼───────────────┤\n",
       "│ dense_3 (<span style=\"color: #0087ff; text-decoration-color: #0087ff\">Dense</span>)                 │ (<span style=\"color: #00d7ff; text-decoration-color: #00d7ff\">None</span>, <span style=\"color: #00af00; text-decoration-color: #00af00\">46</span>)             │         <span style=\"color: #00af00; text-decoration-color: #00af00\">5,934</span> │\n",
       "└─────────────────────────────────┴────────────────────────┴───────────────┘\n",
       "</pre>\n"
      ],
      "text/plain": [
       "┏━━━━━━━━━━━━━━━━━━━━━━━━━━━━━━━━━┳━━━━━━━━━━━━━━━━━━━━━━━━┳━━━━━━━━━━━━━━━┓\n",
       "┃\u001b[1m \u001b[0m\u001b[1mLayer (type)                   \u001b[0m\u001b[1m \u001b[0m┃\u001b[1m \u001b[0m\u001b[1mOutput Shape          \u001b[0m\u001b[1m \u001b[0m┃\u001b[1m \u001b[0m\u001b[1m      Param #\u001b[0m\u001b[1m \u001b[0m┃\n",
       "┡━━━━━━━━━━━━━━━━━━━━━━━━━━━━━━━━━╇━━━━━━━━━━━━━━━━━━━━━━━━╇━━━━━━━━━━━━━━━┩\n",
       "│ embedding_1 (\u001b[38;5;33mEmbedding\u001b[0m)         │ (\u001b[38;5;45mNone\u001b[0m, \u001b[38;5;34m100\u001b[0m, \u001b[38;5;34m128\u001b[0m)       │     \u001b[38;5;34m1,280,000\u001b[0m │\n",
       "├─────────────────────────────────┼────────────────────────┼───────────────┤\n",
       "│ flatten_1 (\u001b[38;5;33mFlatten\u001b[0m)             │ (\u001b[38;5;45mNone\u001b[0m, \u001b[38;5;34m12800\u001b[0m)          │             \u001b[38;5;34m0\u001b[0m │\n",
       "├─────────────────────────────────┼────────────────────────┼───────────────┤\n",
       "│ dense_2 (\u001b[38;5;33mDense\u001b[0m)                 │ (\u001b[38;5;45mNone\u001b[0m, \u001b[38;5;34m128\u001b[0m)            │     \u001b[38;5;34m1,638,528\u001b[0m │\n",
       "├─────────────────────────────────┼────────────────────────┼───────────────┤\n",
       "│ dense_3 (\u001b[38;5;33mDense\u001b[0m)                 │ (\u001b[38;5;45mNone\u001b[0m, \u001b[38;5;34m46\u001b[0m)             │         \u001b[38;5;34m5,934\u001b[0m │\n",
       "└─────────────────────────────────┴────────────────────────┴───────────────┘\n"
      ]
     },
     "metadata": {},
     "output_type": "display_data"
    },
    {
     "data": {
      "text/html": [
       "<pre style=\"white-space:pre;overflow-x:auto;line-height:normal;font-family:Menlo,'DejaVu Sans Mono',consolas,'Courier New',monospace\"><span style=\"font-weight: bold\"> Total params: </span><span style=\"color: #00af00; text-decoration-color: #00af00\">2,924,462</span> (11.16 MB)\n",
       "</pre>\n"
      ],
      "text/plain": [
       "\u001b[1m Total params: \u001b[0m\u001b[38;5;34m2,924,462\u001b[0m (11.16 MB)\n"
      ]
     },
     "metadata": {},
     "output_type": "display_data"
    },
    {
     "data": {
      "text/html": [
       "<pre style=\"white-space:pre;overflow-x:auto;line-height:normal;font-family:Menlo,'DejaVu Sans Mono',consolas,'Courier New',monospace\"><span style=\"font-weight: bold\"> Trainable params: </span><span style=\"color: #00af00; text-decoration-color: #00af00\">2,924,462</span> (11.16 MB)\n",
       "</pre>\n"
      ],
      "text/plain": [
       "\u001b[1m Trainable params: \u001b[0m\u001b[38;5;34m2,924,462\u001b[0m (11.16 MB)\n"
      ]
     },
     "metadata": {},
     "output_type": "display_data"
    },
    {
     "data": {
      "text/html": [
       "<pre style=\"white-space:pre;overflow-x:auto;line-height:normal;font-family:Menlo,'DejaVu Sans Mono',consolas,'Courier New',monospace\"><span style=\"font-weight: bold\"> Non-trainable params: </span><span style=\"color: #00af00; text-decoration-color: #00af00\">0</span> (0.00 B)\n",
       "</pre>\n"
      ],
      "text/plain": [
       "\u001b[1m Non-trainable params: \u001b[0m\u001b[38;5;34m0\u001b[0m (0.00 B)\n"
      ]
     },
     "metadata": {},
     "output_type": "display_data"
    },
    {
     "name": "stdout",
     "output_type": "stream",
     "text": [
      "Epoch 1/5\n",
      "\u001b[1m225/225\u001b[0m \u001b[32m━━━━━━━━━━━━━━━━━━━━\u001b[0m\u001b[37m\u001b[0m \u001b[1m8s\u001b[0m 30ms/step - accuracy: 0.4823 - loss: 2.1243 - val_accuracy: 0.6722 - val_loss: 1.3703\n",
      "Epoch 2/5\n",
      "\u001b[1m225/225\u001b[0m \u001b[32m━━━━━━━━━━━━━━━━━━━━\u001b[0m\u001b[37m\u001b[0m \u001b[1m6s\u001b[0m 28ms/step - accuracy: 0.8098 - loss: 0.8138 - val_accuracy: 0.7123 - val_loss: 1.2440\n",
      "Epoch 3/5\n",
      "\u001b[1m225/225\u001b[0m \u001b[32m━━━━━━━━━━━━━━━━━━━━\u001b[0m\u001b[37m\u001b[0m \u001b[1m6s\u001b[0m 27ms/step - accuracy: 0.9600 - loss: 0.2233 - val_accuracy: 0.7173 - val_loss: 1.2559\n",
      "Epoch 4/5\n",
      "\u001b[1m225/225\u001b[0m \u001b[32m━━━━━━━━━━━━━━━━━━━━\u001b[0m\u001b[37m\u001b[0m \u001b[1m6s\u001b[0m 29ms/step - accuracy: 0.9692 - loss: 0.1438 - val_accuracy: 0.7134 - val_loss: 1.2821\n",
      "Epoch 5/5\n",
      "\u001b[1m225/225\u001b[0m \u001b[32m━━━━━━━━━━━━━━━━━━━━\u001b[0m\u001b[37m\u001b[0m \u001b[1m527s\u001b[0m 2s/step - accuracy: 0.9678 - loss: 0.1198 - val_accuracy: 0.7151 - val_loss: 1.2998\n"
     ]
    }
   ],
   "source": [
    "from tensorflow.keras.models import Sequential\n",
    "from tensorflow.keras.layers import Embedding, Dense, Flatten, InputLayer\n",
    "from tensorflow.keras.callbacks import TensorBoard\n",
    "import datetime\n",
    "\n",
    "# Définir les paramètres du modèle\n",
    "embedding_dim = 128\n",
    "\n",
    "# Créer le modèle\n",
    "model = Sequential()\n",
    "model.add(InputLayer(shape=(100,)))\n",
    "model.add(Embedding(input_dim=num_words, output_dim=embedding_dim, input_length=max_length))\n",
    "model.add(Flatten())\n",
    "model.add(Dense(128, activation='relu'))\n",
    "model.add(Dense(46, activation='softmax'))  # 46 classes dans le jeu de données Reuters\n",
    "\n",
    "# Compiler le modèle\n",
    "model.compile(optimizer='adam', loss='sparse_categorical_crossentropy', metrics=['accuracy'])\n",
    "\n",
    "# Afficher le résumé du modèle\n",
    "model.summary()\n",
    "\n",
    "# Define a log directory\n",
    "log_dir = \"logs/fit/\" + datetime.datetime.now().strftime(\"%Y%m%d-%H%M%S\")\n",
    "tensorboard_callback = TensorBoard(log_dir=log_dir, histogram_freq=1)\n",
    "\n",
    "\n",
    "# Entraîner le modèle\n",
    "history = model.fit(X_train_padded, y_train, epochs=5, batch_size=32, validation_data=(X_val_padded, y_val),callbacks=[tensorboard_callback])"
   ]
  },
  {
   "cell_type": "markdown",
   "metadata": {},
   "source": [
    "Modifiez les hyperparamètres du modèle (par exemple, nombre de neurones, nombre de couches, taux d’apprentissage, nombre d’époques) et observez leur impact sur les performances du modèle."
   ]
  },
  {
   "cell_type": "code",
   "execution_count": 9,
   "metadata": {},
   "outputs": [
    {
     "name": "stdout",
     "output_type": "stream",
     "text": [
      "Testing with parameters: {'embedding_dim': 64, 'epochs': 5, 'learning_rate': 0.001, 'num_layers': 1, 'num_neurons': 64}\n",
      "Epoch 1/5\n",
      "\u001b[1m225/225\u001b[0m \u001b[32m━━━━━━━━━━━━━━━━━━━━\u001b[0m\u001b[37m\u001b[0m \u001b[1m4s\u001b[0m 14ms/step - accuracy: 0.4185 - loss: 2.3079 - val_accuracy: 0.5927 - val_loss: 1.6473\n",
      "Epoch 2/5\n",
      "\u001b[1m225/225\u001b[0m \u001b[32m━━━━━━━━━━━━━━━━━━━━\u001b[0m\u001b[37m\u001b[0m \u001b[1m3s\u001b[0m 12ms/step - accuracy: 0.6588 - loss: 1.3696 - val_accuracy: 0.6728 - val_loss: 1.3914\n",
      "Epoch 3/5\n",
      "\u001b[1m225/225\u001b[0m \u001b[32m━━━━━━━━━━━━━━━━━━━━\u001b[0m\u001b[37m\u001b[0m \u001b[1m3s\u001b[0m 11ms/step - accuracy: 0.8586 - loss: 0.5935 - val_accuracy: 0.6817 - val_loss: 1.4712\n",
      "Epoch 4/5\n",
      "\u001b[1m225/225\u001b[0m \u001b[32m━━━━━━━━━━━━━━━━━━━━\u001b[0m\u001b[37m\u001b[0m \u001b[1m3s\u001b[0m 13ms/step - accuracy: 0.9585 - loss: 0.1965 - val_accuracy: 0.6850 - val_loss: 1.5748\n",
      "Epoch 5/5\n",
      "\u001b[1m225/225\u001b[0m \u001b[32m━━━━━━━━━━━━━━━━━━━━\u001b[0m\u001b[37m\u001b[0m \u001b[1m3s\u001b[0m 13ms/step - accuracy: 0.9624 - loss: 0.1498 - val_accuracy: 0.6861 - val_loss: 1.6430\n",
      "Testing with parameters: {'embedding_dim': 64, 'epochs': 5, 'learning_rate': 0.001, 'num_layers': 1, 'num_neurons': 128}\n",
      "Epoch 1/5\n",
      "\u001b[1m225/225\u001b[0m \u001b[32m━━━━━━━━━━━━━━━━━━━━\u001b[0m\u001b[37m\u001b[0m \u001b[1m5s\u001b[0m 17ms/step - accuracy: 0.4276 - loss: 2.2370 - val_accuracy: 0.6227 - val_loss: 1.5447\n",
      "Epoch 2/5\n",
      "\u001b[1m225/225\u001b[0m \u001b[32m━━━━━━━━━━━━━━━━━━━━\u001b[0m\u001b[37m\u001b[0m \u001b[1m4s\u001b[0m 15ms/step - accuracy: 0.7040 - loss: 1.1924 - val_accuracy: 0.6962 - val_loss: 1.2928\n",
      "Epoch 3/5\n",
      "\u001b[1m225/225\u001b[0m \u001b[32m━━━━━━━━━━━━━━━━━━━━\u001b[0m\u001b[37m\u001b[0m \u001b[1m4s\u001b[0m 15ms/step - accuracy: 0.9092 - loss: 0.3985 - val_accuracy: 0.6923 - val_loss: 1.4986\n",
      "Epoch 4/5\n",
      "\u001b[1m225/225\u001b[0m \u001b[32m━━━━━━━━━━━━━━━━━━━━\u001b[0m\u001b[37m\u001b[0m \u001b[1m4s\u001b[0m 16ms/step - accuracy: 0.9621 - loss: 0.1779 - val_accuracy: 0.6761 - val_loss: 1.6324\n",
      "Epoch 5/5\n",
      "\u001b[1m225/225\u001b[0m \u001b[32m━━━━━━━━━━━━━━━━━━━━\u001b[0m\u001b[37m\u001b[0m \u001b[1m4s\u001b[0m 16ms/step - accuracy: 0.9637 - loss: 0.1513 - val_accuracy: 0.6962 - val_loss: 1.6372\n",
      "Testing with parameters: {'embedding_dim': 64, 'epochs': 5, 'learning_rate': 0.001, 'num_layers': 2, 'num_neurons': 64}\n",
      "Epoch 1/5\n",
      "\u001b[1m225/225\u001b[0m \u001b[32m━━━━━━━━━━━━━━━━━━━━\u001b[0m\u001b[37m\u001b[0m \u001b[1m4s\u001b[0m 14ms/step - accuracy: 0.4079 - loss: 2.3279 - val_accuracy: 0.5810 - val_loss: 1.6464\n",
      "Epoch 2/5\n",
      "\u001b[1m225/225\u001b[0m \u001b[32m━━━━━━━━━━━━━━━━━━━━\u001b[0m\u001b[37m\u001b[0m \u001b[1m3s\u001b[0m 12ms/step - accuracy: 0.6339 - loss: 1.3788 - val_accuracy: 0.6583 - val_loss: 1.4079\n",
      "Epoch 3/5\n",
      "\u001b[1m225/225\u001b[0m \u001b[32m━━━━━━━━━━━━━━━━━━━━\u001b[0m\u001b[37m\u001b[0m \u001b[1m3s\u001b[0m 13ms/step - accuracy: 0.8385 - loss: 0.6258 - val_accuracy: 0.6817 - val_loss: 1.5289\n",
      "Epoch 4/5\n",
      "\u001b[1m225/225\u001b[0m \u001b[32m━━━━━━━━━━━━━━━━━━━━\u001b[0m\u001b[37m\u001b[0m \u001b[1m3s\u001b[0m 12ms/step - accuracy: 0.9525 - loss: 0.2138 - val_accuracy: 0.6689 - val_loss: 1.7530\n",
      "Epoch 5/5\n",
      "\u001b[1m225/225\u001b[0m \u001b[32m━━━━━━━━━━━━━━━━━━━━\u001b[0m\u001b[37m\u001b[0m \u001b[1m3s\u001b[0m 13ms/step - accuracy: 0.9631 - loss: 0.1555 - val_accuracy: 0.6778 - val_loss: 1.7336\n",
      "Testing with parameters: {'embedding_dim': 64, 'epochs': 5, 'learning_rate': 0.001, 'num_layers': 2, 'num_neurons': 128}\n",
      "Epoch 1/5\n",
      "\u001b[1m225/225\u001b[0m \u001b[32m━━━━━━━━━━━━━━━━━━━━\u001b[0m\u001b[37m\u001b[0m \u001b[1m6s\u001b[0m 19ms/step - accuracy: 0.4116 - loss: 2.2647 - val_accuracy: 0.5876 - val_loss: 1.6070\n",
      "Epoch 2/5\n",
      "\u001b[1m225/225\u001b[0m \u001b[32m━━━━━━━━━━━━━━━━━━━━\u001b[0m\u001b[37m\u001b[0m \u001b[1m4s\u001b[0m 17ms/step - accuracy: 0.6339 - loss: 1.3502 - val_accuracy: 0.6834 - val_loss: 1.3788\n",
      "Epoch 3/5\n",
      "\u001b[1m225/225\u001b[0m \u001b[32m━━━━━━━━━━━━━━━━━━━━\u001b[0m\u001b[37m\u001b[0m \u001b[1m4s\u001b[0m 18ms/step - accuracy: 0.8584 - loss: 0.5681 - val_accuracy: 0.6733 - val_loss: 1.6029\n",
      "Epoch 4/5\n",
      "\u001b[1m225/225\u001b[0m \u001b[32m━━━━━━━━━━━━━━━━━━━━\u001b[0m\u001b[37m\u001b[0m \u001b[1m4s\u001b[0m 18ms/step - accuracy: 0.9552 - loss: 0.2119 - val_accuracy: 0.6739 - val_loss: 1.7768\n",
      "Epoch 5/5\n",
      "\u001b[1m225/225\u001b[0m \u001b[32m━━━━━━━━━━━━━━━━━━━━\u001b[0m\u001b[37m\u001b[0m \u001b[1m4s\u001b[0m 18ms/step - accuracy: 0.9617 - loss: 0.1626 - val_accuracy: 0.6822 - val_loss: 1.6834\n",
      "Testing with parameters: {'embedding_dim': 64, 'epochs': 5, 'learning_rate': 0.01, 'num_layers': 1, 'num_neurons': 64}\n",
      "Epoch 1/5\n",
      "\u001b[1m225/225\u001b[0m \u001b[32m━━━━━━━━━━━━━━━━━━━━\u001b[0m\u001b[37m\u001b[0m \u001b[1m4s\u001b[0m 12ms/step - accuracy: 0.4879 - loss: 1.9971 - val_accuracy: 0.6450 - val_loss: 1.5595\n",
      "Epoch 2/5\n",
      "\u001b[1m225/225\u001b[0m \u001b[32m━━━━━━━━━━━━━━━━━━━━\u001b[0m\u001b[37m\u001b[0m \u001b[1m3s\u001b[0m 12ms/step - accuracy: 0.7534 - loss: 0.9457 - val_accuracy: 0.6266 - val_loss: 1.9261\n",
      "Epoch 3/5\n",
      "\u001b[1m225/225\u001b[0m \u001b[32m━━━━━━━━━━━━━━━━━━━━\u001b[0m\u001b[37m\u001b[0m \u001b[1m3s\u001b[0m 11ms/step - accuracy: 0.9184 - loss: 0.3957 - val_accuracy: 0.6283 - val_loss: 2.2983\n",
      "Epoch 4/5\n",
      "\u001b[1m225/225\u001b[0m \u001b[32m━━━━━━━━━━━━━━━━━━━━\u001b[0m\u001b[37m\u001b[0m \u001b[1m3s\u001b[0m 11ms/step - accuracy: 0.9573 - loss: 0.2356 - val_accuracy: 0.6377 - val_loss: 2.3971\n",
      "Epoch 5/5\n",
      "\u001b[1m225/225\u001b[0m \u001b[32m━━━━━━━━━━━━━━━━━━━━\u001b[0m\u001b[37m\u001b[0m \u001b[1m3s\u001b[0m 11ms/step - accuracy: 0.9623 - loss: 0.1959 - val_accuracy: 0.6255 - val_loss: 2.3881\n",
      "Testing with parameters: {'embedding_dim': 64, 'epochs': 5, 'learning_rate': 0.01, 'num_layers': 1, 'num_neurons': 128}\n",
      "Epoch 1/5\n",
      "\u001b[1m225/225\u001b[0m \u001b[32m━━━━━━━━━━━━━━━━━━━━\u001b[0m\u001b[37m\u001b[0m \u001b[1m5s\u001b[0m 16ms/step - accuracy: 0.5016 - loss: 2.0021 - val_accuracy: 0.6439 - val_loss: 1.5437\n",
      "Epoch 2/5\n",
      "\u001b[1m225/225\u001b[0m \u001b[32m━━━━━━━━━━━━━━━━━━━━\u001b[0m\u001b[37m\u001b[0m \u001b[1m4s\u001b[0m 16ms/step - accuracy: 0.7659 - loss: 0.8746 - val_accuracy: 0.6566 - val_loss: 1.8146\n",
      "Epoch 3/5\n",
      "\u001b[1m225/225\u001b[0m \u001b[32m━━━━━━━━━━━━━━━━━━━━\u001b[0m\u001b[37m\u001b[0m \u001b[1m4s\u001b[0m 16ms/step - accuracy: 0.9338 - loss: 0.3296 - val_accuracy: 0.6461 - val_loss: 2.1071\n",
      "Epoch 4/5\n",
      "\u001b[1m225/225\u001b[0m \u001b[32m━━━━━━━━━━━━━━━━━━━━\u001b[0m\u001b[37m\u001b[0m \u001b[1m3s\u001b[0m 15ms/step - accuracy: 0.9468 - loss: 0.3048 - val_accuracy: 0.6116 - val_loss: 3.1374\n",
      "Epoch 5/5\n",
      "\u001b[1m225/225\u001b[0m \u001b[32m━━━━━━━━━━━━━━━━━━━━\u001b[0m\u001b[37m\u001b[0m \u001b[1m4s\u001b[0m 16ms/step - accuracy: 0.9370 - loss: 0.3639 - val_accuracy: 0.6322 - val_loss: 2.7095\n",
      "Testing with parameters: {'embedding_dim': 64, 'epochs': 5, 'learning_rate': 0.01, 'num_layers': 2, 'num_neurons': 64}\n",
      "Epoch 1/5\n",
      "\u001b[1m225/225\u001b[0m \u001b[32m━━━━━━━━━━━━━━━━━━━━\u001b[0m\u001b[37m\u001b[0m \u001b[1m5s\u001b[0m 14ms/step - accuracy: 0.4892 - loss: 2.0542 - val_accuracy: 0.6372 - val_loss: 1.5275\n",
      "Epoch 2/5\n",
      "\u001b[1m225/225\u001b[0m \u001b[32m━━━━━━━━━━━━━━━━━━━━\u001b[0m\u001b[37m\u001b[0m \u001b[1m3s\u001b[0m 12ms/step - accuracy: 0.7296 - loss: 1.0326 - val_accuracy: 0.6260 - val_loss: 1.7204\n",
      "Epoch 3/5\n",
      "\u001b[1m225/225\u001b[0m \u001b[32m━━━━━━━━━━━━━━━━━━━━\u001b[0m\u001b[37m\u001b[0m \u001b[1m3s\u001b[0m 13ms/step - accuracy: 0.8868 - loss: 0.4483 - val_accuracy: 0.6333 - val_loss: 2.2287\n",
      "Epoch 4/5\n",
      "\u001b[1m225/225\u001b[0m \u001b[32m━━━━━━━━━━━━━━━━━━━━\u001b[0m\u001b[37m\u001b[0m \u001b[1m3s\u001b[0m 12ms/step - accuracy: 0.9406 - loss: 0.2702 - val_accuracy: 0.6155 - val_loss: 2.3325\n",
      "Epoch 5/5\n",
      "\u001b[1m225/225\u001b[0m \u001b[32m━━━━━━━━━━━━━━━━━━━━\u001b[0m\u001b[37m\u001b[0m \u001b[1m3s\u001b[0m 13ms/step - accuracy: 0.9503 - loss: 0.2287 - val_accuracy: 0.6260 - val_loss: 2.5816\n",
      "Testing with parameters: {'embedding_dim': 64, 'epochs': 5, 'learning_rate': 0.01, 'num_layers': 2, 'num_neurons': 128}\n",
      "Epoch 1/5\n",
      "\u001b[1m225/225\u001b[0m \u001b[32m━━━━━━━━━━━━━━━━━━━━\u001b[0m\u001b[37m\u001b[0m \u001b[1m6s\u001b[0m 22ms/step - accuracy: 0.4828 - loss: 1.9902 - val_accuracy: 0.6205 - val_loss: 1.6342\n",
      "Epoch 2/5\n",
      "\u001b[1m225/225\u001b[0m \u001b[32m━━━━━━━━━━━━━━━━━━━━\u001b[0m\u001b[37m\u001b[0m \u001b[1m5s\u001b[0m 21ms/step - accuracy: 0.6858 - loss: 1.1820 - val_accuracy: 0.6266 - val_loss: 1.6856\n",
      "Epoch 3/5\n",
      "\u001b[1m225/225\u001b[0m \u001b[32m━━━━━━━━━━━━━━━━━━━━\u001b[0m\u001b[37m\u001b[0m \u001b[1m5s\u001b[0m 21ms/step - accuracy: 0.7900 - loss: 0.8228 - val_accuracy: 0.5787 - val_loss: 2.2374\n",
      "Epoch 4/5\n",
      "\u001b[1m225/225\u001b[0m \u001b[32m━━━━━━━━━━━━━━━━━━━━\u001b[0m\u001b[37m\u001b[0m \u001b[1m4s\u001b[0m 18ms/step - accuracy: 0.7990 - loss: 1.3251 - val_accuracy: 0.5620 - val_loss: 2.6347\n",
      "Epoch 5/5\n",
      "\u001b[1m225/225\u001b[0m \u001b[32m━━━━━━━━━━━━━━━━━━━━\u001b[0m\u001b[37m\u001b[0m \u001b[1m4s\u001b[0m 18ms/step - accuracy: 0.8491 - loss: 0.5351 - val_accuracy: 0.5648 - val_loss: 2.9879\n",
      "Testing with parameters: {'embedding_dim': 128, 'epochs': 5, 'learning_rate': 0.001, 'num_layers': 1, 'num_neurons': 64}\n",
      "Epoch 1/5\n",
      "\u001b[1m225/225\u001b[0m \u001b[32m━━━━━━━━━━━━━━━━━━━━\u001b[0m\u001b[37m\u001b[0m \u001b[1m5s\u001b[0m 18ms/step - accuracy: 0.4296 - loss: 2.2967 - val_accuracy: 0.6043 - val_loss: 1.5819\n",
      "Epoch 2/5\n",
      "\u001b[1m225/225\u001b[0m \u001b[32m━━━━━━━━━━━━━━━━━━━━\u001b[0m\u001b[37m\u001b[0m \u001b[1m4s\u001b[0m 18ms/step - accuracy: 0.6811 - loss: 1.2645 - val_accuracy: 0.6945 - val_loss: 1.3058\n",
      "Epoch 3/5\n",
      "\u001b[1m225/225\u001b[0m \u001b[32m━━━━━━━━━━━━━━━━━━━━\u001b[0m\u001b[37m\u001b[0m \u001b[1m4s\u001b[0m 17ms/step - accuracy: 0.9214 - loss: 0.4005 - val_accuracy: 0.6828 - val_loss: 1.4833\n",
      "Epoch 4/5\n",
      "\u001b[1m225/225\u001b[0m \u001b[32m━━━━━━━━━━━━━━━━━━━━\u001b[0m\u001b[37m\u001b[0m \u001b[1m4s\u001b[0m 17ms/step - accuracy: 0.9662 - loss: 0.1620 - val_accuracy: 0.6934 - val_loss: 1.5623\n",
      "Epoch 5/5\n",
      "\u001b[1m225/225\u001b[0m \u001b[32m━━━━━━━━━━━━━━━━━━━━\u001b[0m\u001b[37m\u001b[0m \u001b[1m4s\u001b[0m 18ms/step - accuracy: 0.9691 - loss: 0.1348 - val_accuracy: 0.6967 - val_loss: 1.5494\n",
      "Testing with parameters: {'embedding_dim': 128, 'epochs': 5, 'learning_rate': 0.001, 'num_layers': 1, 'num_neurons': 128}\n",
      "Epoch 1/5\n",
      "\u001b[1m225/225\u001b[0m \u001b[32m━━━━━━━━━━━━━━━━━━━━\u001b[0m\u001b[37m\u001b[0m \u001b[1m6s\u001b[0m 23ms/step - accuracy: 0.4317 - loss: 2.2107 - val_accuracy: 0.6149 - val_loss: 1.5319\n",
      "Epoch 2/5\n",
      "\u001b[1m225/225\u001b[0m \u001b[32m━━━━━━━━━━━━━━━━━━━━\u001b[0m\u001b[37m\u001b[0m \u001b[1m5s\u001b[0m 22ms/step - accuracy: 0.7186 - loss: 1.0956 - val_accuracy: 0.6956 - val_loss: 1.2841\n",
      "Epoch 3/5\n",
      "\u001b[1m225/225\u001b[0m \u001b[32m━━━━━━━━━━━━━━━━━━━━\u001b[0m\u001b[37m\u001b[0m \u001b[1m5s\u001b[0m 21ms/step - accuracy: 0.9400 - loss: 0.3037 - val_accuracy: 0.6989 - val_loss: 1.4455\n",
      "Epoch 4/5\n",
      "\u001b[1m225/225\u001b[0m \u001b[32m━━━━━━━━━━━━━━━━━━━━\u001b[0m\u001b[37m\u001b[0m \u001b[1m5s\u001b[0m 22ms/step - accuracy: 0.9602 - loss: 0.1884 - val_accuracy: 0.6917 - val_loss: 1.4760\n",
      "Epoch 5/5\n",
      "\u001b[1m225/225\u001b[0m \u001b[32m━━━━━━━━━━━━━━━━━━━━\u001b[0m\u001b[37m\u001b[0m \u001b[1m5s\u001b[0m 21ms/step - accuracy: 0.9628 - loss: 0.1501 - val_accuracy: 0.7023 - val_loss: 1.5125\n",
      "Testing with parameters: {'embedding_dim': 128, 'epochs': 5, 'learning_rate': 0.001, 'num_layers': 2, 'num_neurons': 64}\n",
      "Epoch 1/5\n",
      "\u001b[1m225/225\u001b[0m \u001b[32m━━━━━━━━━━━━━━━━━━━━\u001b[0m\u001b[37m\u001b[0m \u001b[1m6s\u001b[0m 19ms/step - accuracy: 0.4172 - loss: 2.2448 - val_accuracy: 0.5799 - val_loss: 1.6336\n",
      "Epoch 2/5\n",
      "\u001b[1m225/225\u001b[0m \u001b[32m━━━━━━━━━━━━━━━━━━━━\u001b[0m\u001b[37m\u001b[0m \u001b[1m4s\u001b[0m 19ms/step - accuracy: 0.6458 - loss: 1.3462 - val_accuracy: 0.6739 - val_loss: 1.3833\n",
      "Epoch 3/5\n",
      "\u001b[1m225/225\u001b[0m \u001b[32m━━━━━━━━━━━━━━━━━━━━\u001b[0m\u001b[37m\u001b[0m \u001b[1m4s\u001b[0m 19ms/step - accuracy: 0.8592 - loss: 0.5736 - val_accuracy: 0.6711 - val_loss: 1.5948\n",
      "Epoch 4/5\n",
      "\u001b[1m225/225\u001b[0m \u001b[32m━━━━━━━━━━━━━━━━━━━━\u001b[0m\u001b[37m\u001b[0m \u001b[1m4s\u001b[0m 20ms/step - accuracy: 0.9594 - loss: 0.1991 - val_accuracy: 0.6711 - val_loss: 1.8320\n",
      "Epoch 5/5\n",
      "\u001b[1m225/225\u001b[0m \u001b[32m━━━━━━━━━━━━━━━━━━━━\u001b[0m\u001b[37m\u001b[0m \u001b[1m4s\u001b[0m 20ms/step - accuracy: 0.9587 - loss: 0.1656 - val_accuracy: 0.6739 - val_loss: 1.8417\n",
      "Testing with parameters: {'embedding_dim': 128, 'epochs': 5, 'learning_rate': 0.001, 'num_layers': 2, 'num_neurons': 128}\n",
      "Epoch 1/5\n",
      "\u001b[1m225/225\u001b[0m \u001b[32m━━━━━━━━━━━━━━━━━━━━\u001b[0m\u001b[37m\u001b[0m \u001b[1m7s\u001b[0m 26ms/step - accuracy: 0.4335 - loss: 2.2313 - val_accuracy: 0.5943 - val_loss: 1.5697\n",
      "Epoch 2/5\n",
      "\u001b[1m225/225\u001b[0m \u001b[32m━━━━━━━━━━━━━━━━━━━━\u001b[0m\u001b[37m\u001b[0m \u001b[1m6s\u001b[0m 25ms/step - accuracy: 0.6694 - loss: 1.2369 - val_accuracy: 0.6895 - val_loss: 1.3754\n",
      "Epoch 3/5\n",
      "\u001b[1m225/225\u001b[0m \u001b[32m━━━━━━━━━━━━━━━━━━━━\u001b[0m\u001b[37m\u001b[0m \u001b[1m5s\u001b[0m 24ms/step - accuracy: 0.8986 - loss: 0.4355 - val_accuracy: 0.6678 - val_loss: 1.6279\n",
      "Epoch 4/5\n",
      "\u001b[1m225/225\u001b[0m \u001b[32m━━━━━━━━━━━━━━━━━━━━\u001b[0m\u001b[37m\u001b[0m \u001b[1m6s\u001b[0m 25ms/step - accuracy: 0.9610 - loss: 0.1872 - val_accuracy: 0.6867 - val_loss: 1.6234\n",
      "Epoch 5/5\n",
      "\u001b[1m225/225\u001b[0m \u001b[32m━━━━━━━━━━━━━━━━━━━━\u001b[0m\u001b[37m\u001b[0m \u001b[1m6s\u001b[0m 25ms/step - accuracy: 0.9609 - loss: 0.1578 - val_accuracy: 0.6756 - val_loss: 1.6601\n",
      "Testing with parameters: {'embedding_dim': 128, 'epochs': 5, 'learning_rate': 0.01, 'num_layers': 1, 'num_neurons': 64}\n",
      "Epoch 1/5\n",
      "\u001b[1m225/225\u001b[0m \u001b[32m━━━━━━━━━━━━━━━━━━━━\u001b[0m\u001b[37m\u001b[0m \u001b[1m5s\u001b[0m 18ms/step - accuracy: 0.4855 - loss: 2.0201 - val_accuracy: 0.6377 - val_loss: 1.6043\n",
      "Epoch 2/5\n",
      "\u001b[1m225/225\u001b[0m \u001b[32m━━━━━━━━━━━━━━━━━━━━\u001b[0m\u001b[37m\u001b[0m \u001b[1m4s\u001b[0m 18ms/step - accuracy: 0.7431 - loss: 1.0590 - val_accuracy: 0.6238 - val_loss: 2.1522\n",
      "Epoch 3/5\n",
      "\u001b[1m225/225\u001b[0m \u001b[32m━━━━━━━━━━━━━━━━━━━━\u001b[0m\u001b[37m\u001b[0m \u001b[1m4s\u001b[0m 17ms/step - accuracy: 0.8736 - loss: 0.7620 - val_accuracy: 0.6194 - val_loss: 2.7777\n",
      "Epoch 4/5\n",
      "\u001b[1m225/225\u001b[0m \u001b[32m━━━━━━━━━━━━━━━━━━━━\u001b[0m\u001b[37m\u001b[0m \u001b[1m4s\u001b[0m 18ms/step - accuracy: 0.9375 - loss: 0.3528 - val_accuracy: 0.6227 - val_loss: 2.9154\n",
      "Epoch 5/5\n",
      "\u001b[1m225/225\u001b[0m \u001b[32m━━━━━━━━━━━━━━━━━━━━\u001b[0m\u001b[37m\u001b[0m \u001b[1m4s\u001b[0m 19ms/step - accuracy: 0.9387 - loss: 0.6987 - val_accuracy: 0.6305 - val_loss: 3.1337\n",
      "Testing with parameters: {'embedding_dim': 128, 'epochs': 5, 'learning_rate': 0.01, 'num_layers': 1, 'num_neurons': 128}\n",
      "Epoch 1/5\n",
      "\u001b[1m225/225\u001b[0m \u001b[32m━━━━━━━━━━━━━━━━━━━━\u001b[0m\u001b[37m\u001b[0m \u001b[1m7s\u001b[0m 24ms/step - accuracy: 0.5255 - loss: 1.9575 - val_accuracy: 0.6561 - val_loss: 1.6094\n",
      "Epoch 2/5\n",
      "\u001b[1m225/225\u001b[0m \u001b[32m━━━━━━━━━━━━━━━━━━━━\u001b[0m\u001b[37m\u001b[0m \u001b[1m5s\u001b[0m 23ms/step - accuracy: 0.7172 - loss: 1.2916 - val_accuracy: 0.6377 - val_loss: 2.4277\n",
      "Epoch 3/5\n",
      "\u001b[1m225/225\u001b[0m \u001b[32m━━━━━━━━━━━━━━━━━━━━\u001b[0m\u001b[37m\u001b[0m \u001b[1m5s\u001b[0m 22ms/step - accuracy: 0.8714 - loss: 0.6318 - val_accuracy: 0.6199 - val_loss: 2.5533\n",
      "Epoch 4/5\n",
      "\u001b[1m225/225\u001b[0m \u001b[32m━━━━━━━━━━━━━━━━━━━━\u001b[0m\u001b[37m\u001b[0m \u001b[1m5s\u001b[0m 23ms/step - accuracy: 0.9425 - loss: 0.3430 - val_accuracy: 0.6294 - val_loss: 2.7293\n",
      "Epoch 5/5\n",
      "\u001b[1m225/225\u001b[0m \u001b[32m━━━━━━━━━━━━━━━━━━━━\u001b[0m\u001b[37m\u001b[0m \u001b[1m5s\u001b[0m 24ms/step - accuracy: 0.9443 - loss: 0.3979 - val_accuracy: 0.6183 - val_loss: 4.0635\n",
      "Testing with parameters: {'embedding_dim': 128, 'epochs': 5, 'learning_rate': 0.01, 'num_layers': 2, 'num_neurons': 64}\n",
      "Epoch 1/5\n",
      "\u001b[1m225/225\u001b[0m \u001b[32m━━━━━━━━━━━━━━━━━━━━\u001b[0m\u001b[37m\u001b[0m \u001b[1m6s\u001b[0m 22ms/step - accuracy: 0.4855 - loss: 1.9924 - val_accuracy: 0.6294 - val_loss: 1.6009\n",
      "Epoch 2/5\n",
      "\u001b[1m225/225\u001b[0m \u001b[32m━━━━━━━━━━━━━━━━━━━━\u001b[0m\u001b[37m\u001b[0m \u001b[1m5s\u001b[0m 21ms/step - accuracy: 0.6881 - loss: 1.2027 - val_accuracy: 0.6171 - val_loss: 1.8600\n",
      "Epoch 3/5\n",
      "\u001b[1m225/225\u001b[0m \u001b[32m━━━━━━━━━━━━━━━━━━━━\u001b[0m\u001b[37m\u001b[0m \u001b[1m4s\u001b[0m 20ms/step - accuracy: 0.7344 - loss: 1.3301 - val_accuracy: 0.5737 - val_loss: 2.2594\n",
      "Epoch 4/5\n",
      "\u001b[1m225/225\u001b[0m \u001b[32m━━━━━━━━━━━━━━━━━━━━\u001b[0m\u001b[37m\u001b[0m \u001b[1m4s\u001b[0m 20ms/step - accuracy: 0.7706 - loss: 0.7894 - val_accuracy: 0.5715 - val_loss: 2.4694\n",
      "Epoch 5/5\n",
      "\u001b[1m225/225\u001b[0m \u001b[32m━━━━━━━━━━━━━━━━━━━━\u001b[0m\u001b[37m\u001b[0m \u001b[1m5s\u001b[0m 20ms/step - accuracy: 0.8348 - loss: 0.5912 - val_accuracy: 0.5815 - val_loss: 2.8885\n",
      "Testing with parameters: {'embedding_dim': 128, 'epochs': 5, 'learning_rate': 0.01, 'num_layers': 2, 'num_neurons': 128}\n",
      "Epoch 1/5\n",
      "\u001b[1m225/225\u001b[0m \u001b[32m━━━━━━━━━━━━━━━━━━━━\u001b[0m\u001b[37m\u001b[0m \u001b[1m7s\u001b[0m 26ms/step - accuracy: 0.4793 - loss: 2.1316 - val_accuracy: 0.6294 - val_loss: 1.6285\n",
      "Epoch 2/5\n",
      "\u001b[1m225/225\u001b[0m \u001b[32m━━━━━━━━━━━━━━━━━━━━\u001b[0m\u001b[37m\u001b[0m \u001b[1m6s\u001b[0m 26ms/step - accuracy: 0.6740 - loss: 1.2487 - val_accuracy: 0.6132 - val_loss: 1.7518\n",
      "Epoch 3/5\n",
      "\u001b[1m225/225\u001b[0m \u001b[32m━━━━━━━━━━━━━━━━━━━━\u001b[0m\u001b[37m\u001b[0m \u001b[1m6s\u001b[0m 27ms/step - accuracy: 0.7714 - loss: 0.8053 - val_accuracy: 0.5971 - val_loss: 2.1121\n",
      "Epoch 4/5\n",
      "\u001b[1m225/225\u001b[0m \u001b[32m━━━━━━━━━━━━━━━━━━━━\u001b[0m\u001b[37m\u001b[0m \u001b[1m6s\u001b[0m 25ms/step - accuracy: 0.8537 - loss: 0.5103 - val_accuracy: 0.6038 - val_loss: 2.7439\n",
      "Epoch 5/5\n",
      "\u001b[1m225/225\u001b[0m \u001b[32m━━━━━━━━━━━━━━━━━━━━\u001b[0m\u001b[37m\u001b[0m \u001b[1m6s\u001b[0m 25ms/step - accuracy: 0.8909 - loss: 0.3958 - val_accuracy: 0.5787 - val_loss: 3.1282\n",
      "    embedding_dim  num_neurons  num_layers  learning_rate  epochs  val_loss  \\\n",
      "0              64           64           1          0.001       5  1.643025   \n",
      "1              64          128           1          0.001       5  1.637174   \n",
      "2              64           64           2          0.001       5  1.733589   \n",
      "3              64          128           2          0.001       5  1.683409   \n",
      "4              64           64           1          0.010       5  2.388075   \n",
      "5              64          128           1          0.010       5  2.709522   \n",
      "6              64           64           2          0.010       5  2.581570   \n",
      "7              64          128           2          0.010       5  2.987938   \n",
      "8             128           64           1          0.001       5  1.549387   \n",
      "9             128          128           1          0.001       5  1.512540   \n",
      "10            128           64           2          0.001       5  1.841713   \n",
      "11            128          128           2          0.001       5  1.660073   \n",
      "12            128           64           1          0.010       5  3.133725   \n",
      "13            128          128           1          0.010       5  4.063546   \n",
      "14            128           64           2          0.010       5  2.888528   \n",
      "15            128          128           2          0.010       5  3.128179   \n",
      "\n",
      "    val_accuracy  \n",
      "0       0.686144  \n",
      "1       0.696160  \n",
      "2       0.677796  \n",
      "3       0.682248  \n",
      "4       0.625487  \n",
      "5       0.632165  \n",
      "6       0.626043  \n",
      "7       0.564830  \n",
      "8       0.696717  \n",
      "9       0.702282  \n",
      "10      0.673901  \n",
      "11      0.675570  \n",
      "12      0.630495  \n",
      "13      0.618253  \n",
      "14      0.581525  \n",
      "15      0.578742  \n",
      "Best parameters: embedding_dim    128.000000\n",
      "num_neurons      128.000000\n",
      "num_layers         1.000000\n",
      "learning_rate      0.001000\n",
      "epochs             5.000000\n",
      "val_loss           1.512540\n",
      "val_accuracy       0.702282\n",
      "Name: 9, dtype: float64\n"
     ]
    }
   ],
   "source": [
    "import tensorflow as tf\n",
    "from sklearn.model_selection import ParameterGrid\n",
    "import datetime\n",
    "import pandas as pd\n",
    "\n",
    "# Définir les paramètres du modèle\n",
    "num_words = 10000  # Exemple de valeur, ajustez selon vos besoins\n",
    "max_length = 100  # Exemple de valeur, ajustez selon vos besoins\n",
    "\n",
    "# Fonction pour créer le modèle avec des hyperparamètres modifiables\n",
    "def create_model(embedding_dim, num_neurons, num_layers, learning_rate):\n",
    "    model = Sequential()\n",
    "    model.add(Embedding(input_dim=num_words, output_dim=embedding_dim, input_length=max_length))\n",
    "    for _ in range(num_layers):\n",
    "        model.add(Dense(num_neurons, activation='relu'))\n",
    "    model.add(Flatten())\n",
    "    model.add(Dense(46, activation='softmax'))  # 46 classes dans le jeu de données Reuters\n",
    "\n",
    "    # Compiler le modèle avec un taux d'apprentissage modifiable\n",
    "    optimizer = tf.keras.optimizers.Adam(learning_rate=learning_rate)\n",
    "    model.compile(optimizer=optimizer, loss='sparse_categorical_crossentropy', metrics=['accuracy'])\n",
    "    \n",
    "    return model\n",
    "\n",
    "# Définir les hyperparamètres à tester\n",
    "param_grid = {\n",
    "    'embedding_dim': [64, 128],\n",
    "    'num_neurons': [64, 128],\n",
    "    'num_layers': [1, 2],\n",
    "    'learning_rate': [0.001, 0.01],\n",
    "    'epochs': [5,]\n",
    "}\n",
    "\n",
    "# Créer une grille de paramètres\n",
    "grid = ParameterGrid(param_grid)\n",
    "\n",
    "# Liste pour stocker les résultats\n",
    "results = []\n",
    "\n",
    "# Boucle sur chaque combinaison d'hyperparamètres\n",
    "for params in grid:\n",
    "    print(f\"Testing with parameters: {params}\")\n",
    "    \n",
    "    # Créer le modèle avec les hyperparamètres actuels\n",
    "    model = create_model(params['embedding_dim'], params['num_neurons'], params['num_layers'], params['learning_rate'])\n",
    "    \n",
    "    # Définir un répertoire de logs pour TensorBoard\n",
    "    log_dir = f\"logs/fit/emb{params['embedding_dim']}_neurons{params['num_neurons']}_layers{params['num_layers']}_lr{params['learning_rate']}_epochs{params['epochs']}_{datetime.datetime.now().strftime('%Y%m%d-%H%M%S')}\"\n",
    "    # log_dir = \"logs/fit/\" + datetime.datetime.now().strftime(\"%Y%m%d-%H%M%S\")\n",
    "    tensorboard_callback = TensorBoard(log_dir=log_dir, histogram_freq=1)\n",
    "    \n",
    "    # Entraîner le modèle avec le callback TensorBoard\n",
    "    history = model.fit(X_train_padded, y_train, epochs=params['epochs'], batch_size=32, validation_data=(X_val_padded, y_val), callbacks=[tensorboard_callback])\n",
    "    \n",
    "    # Évaluer le modèle sur les données de validation\n",
    "    val_loss, val_accuracy = model.evaluate(X_val_padded, y_val, verbose=0)\n",
    "    \n",
    "    # Stocker les résultats\n",
    "    results.append({\n",
    "        'embedding_dim': params['embedding_dim'],\n",
    "        'num_neurons': params['num_neurons'],\n",
    "        'num_layers': params['num_layers'],\n",
    "        'learning_rate': params['learning_rate'],\n",
    "        'epochs': params['epochs'],\n",
    "        'val_loss': val_loss,\n",
    "        'val_accuracy': val_accuracy\n",
    "    })\n",
    "\n",
    "# Convertir les résultats en DataFrame pandas pour une analyse plus facile\n",
    "results_df = pd.DataFrame(results)\n",
    "\n",
    "# Afficher les résultats\n",
    "print(results_df)\n",
    "\n",
    "# Trouver la meilleure combinaison d'hyperparamètres\n",
    "best_params = results_df.loc[results_df['val_accuracy'].idxmax()]\n",
    "print(f\"Best parameters: {best_params}\")\n"
   ]
  },
  {
   "cell_type": "markdown",
   "metadata": {},
   "source": [
    "Best parameters:\n",
    "- embedding_dim    128.000000\n",
    "- num_neurons      128.000000\n",
    "- num_layers         1.000000\n",
    "- learning_rate      0.001000\n",
    "- epochs             5.000000\n",
    "- val_loss           1.512540\n",
    "- val_accuracy       0.702282"
   ]
  },
  {
   "cell_type": "markdown",
   "metadata": {},
   "source": [
    "Entraînement et évaluation du modèle :\n",
    "\n",
    "Entraînez votre modèle en utilisant les données de Reuters et évaluez sa performance en termes de précision, rappel et score F1.\n",
    "Conseils : Utilisez la fonction classification_report de sklearn.metrics pour obtenir un rapport de classification détaillé et history de Keras pour visualiser la précision et la perte au cours de l’entraînement."
   ]
  },
  {
   "cell_type": "code",
   "execution_count": 11,
   "metadata": {},
   "outputs": [
    {
     "name": "stderr",
     "output_type": "stream",
     "text": [
      "c:\\Users\\pltel\\Documents\\IA-DeepLearning\\.venv\\Lib\\site-packages\\keras\\src\\layers\\core\\embedding.py:90: UserWarning: Argument `input_length` is deprecated. Just remove it.\n",
      "  warnings.warn(\n"
     ]
    },
    {
     "data": {
      "text/html": [
       "<pre style=\"white-space:pre;overflow-x:auto;line-height:normal;font-family:Menlo,'DejaVu Sans Mono',consolas,'Courier New',monospace\"><span style=\"font-weight: bold\">Model: \"sequential_25\"</span>\n",
       "</pre>\n"
      ],
      "text/plain": [
       "\u001b[1mModel: \"sequential_25\"\u001b[0m\n"
      ]
     },
     "metadata": {},
     "output_type": "display_data"
    },
    {
     "data": {
      "text/html": [
       "<pre style=\"white-space:pre;overflow-x:auto;line-height:normal;font-family:Menlo,'DejaVu Sans Mono',consolas,'Courier New',monospace\">┏━━━━━━━━━━━━━━━━━━━━━━━━━━━━━━━━━┳━━━━━━━━━━━━━━━━━━━━━━━━┳━━━━━━━━━━━━━━━┓\n",
       "┃<span style=\"font-weight: bold\"> Layer (type)                    </span>┃<span style=\"font-weight: bold\"> Output Shape           </span>┃<span style=\"font-weight: bold\">       Param # </span>┃\n",
       "┡━━━━━━━━━━━━━━━━━━━━━━━━━━━━━━━━━╇━━━━━━━━━━━━━━━━━━━━━━━━╇━━━━━━━━━━━━━━━┩\n",
       "│ embedding_24 (<span style=\"color: #0087ff; text-decoration-color: #0087ff\">Embedding</span>)        │ (<span style=\"color: #00d7ff; text-decoration-color: #00d7ff\">None</span>, <span style=\"color: #00af00; text-decoration-color: #00af00\">100</span>, <span style=\"color: #00af00; text-decoration-color: #00af00\">128</span>)       │     <span style=\"color: #00af00; text-decoration-color: #00af00\">1,280,000</span> │\n",
       "├─────────────────────────────────┼────────────────────────┼───────────────┤\n",
       "│ dense_56 (<span style=\"color: #0087ff; text-decoration-color: #0087ff\">Dense</span>)                │ (<span style=\"color: #00d7ff; text-decoration-color: #00d7ff\">None</span>, <span style=\"color: #00af00; text-decoration-color: #00af00\">100</span>, <span style=\"color: #00af00; text-decoration-color: #00af00\">128</span>)       │        <span style=\"color: #00af00; text-decoration-color: #00af00\">16,512</span> │\n",
       "├─────────────────────────────────┼────────────────────────┼───────────────┤\n",
       "│ flatten_24 (<span style=\"color: #0087ff; text-decoration-color: #0087ff\">Flatten</span>)            │ (<span style=\"color: #00d7ff; text-decoration-color: #00d7ff\">None</span>, <span style=\"color: #00af00; text-decoration-color: #00af00\">12800</span>)          │             <span style=\"color: #00af00; text-decoration-color: #00af00\">0</span> │\n",
       "├─────────────────────────────────┼────────────────────────┼───────────────┤\n",
       "│ dense_57 (<span style=\"color: #0087ff; text-decoration-color: #0087ff\">Dense</span>)                │ (<span style=\"color: #00d7ff; text-decoration-color: #00d7ff\">None</span>, <span style=\"color: #00af00; text-decoration-color: #00af00\">46</span>)             │       <span style=\"color: #00af00; text-decoration-color: #00af00\">588,846</span> │\n",
       "└─────────────────────────────────┴────────────────────────┴───────────────┘\n",
       "</pre>\n"
      ],
      "text/plain": [
       "┏━━━━━━━━━━━━━━━━━━━━━━━━━━━━━━━━━┳━━━━━━━━━━━━━━━━━━━━━━━━┳━━━━━━━━━━━━━━━┓\n",
       "┃\u001b[1m \u001b[0m\u001b[1mLayer (type)                   \u001b[0m\u001b[1m \u001b[0m┃\u001b[1m \u001b[0m\u001b[1mOutput Shape          \u001b[0m\u001b[1m \u001b[0m┃\u001b[1m \u001b[0m\u001b[1m      Param #\u001b[0m\u001b[1m \u001b[0m┃\n",
       "┡━━━━━━━━━━━━━━━━━━━━━━━━━━━━━━━━━╇━━━━━━━━━━━━━━━━━━━━━━━━╇━━━━━━━━━━━━━━━┩\n",
       "│ embedding_24 (\u001b[38;5;33mEmbedding\u001b[0m)        │ (\u001b[38;5;45mNone\u001b[0m, \u001b[38;5;34m100\u001b[0m, \u001b[38;5;34m128\u001b[0m)       │     \u001b[38;5;34m1,280,000\u001b[0m │\n",
       "├─────────────────────────────────┼────────────────────────┼───────────────┤\n",
       "│ dense_56 (\u001b[38;5;33mDense\u001b[0m)                │ (\u001b[38;5;45mNone\u001b[0m, \u001b[38;5;34m100\u001b[0m, \u001b[38;5;34m128\u001b[0m)       │        \u001b[38;5;34m16,512\u001b[0m │\n",
       "├─────────────────────────────────┼────────────────────────┼───────────────┤\n",
       "│ flatten_24 (\u001b[38;5;33mFlatten\u001b[0m)            │ (\u001b[38;5;45mNone\u001b[0m, \u001b[38;5;34m12800\u001b[0m)          │             \u001b[38;5;34m0\u001b[0m │\n",
       "├─────────────────────────────────┼────────────────────────┼───────────────┤\n",
       "│ dense_57 (\u001b[38;5;33mDense\u001b[0m)                │ (\u001b[38;5;45mNone\u001b[0m, \u001b[38;5;34m46\u001b[0m)             │       \u001b[38;5;34m588,846\u001b[0m │\n",
       "└─────────────────────────────────┴────────────────────────┴───────────────┘\n"
      ]
     },
     "metadata": {},
     "output_type": "display_data"
    },
    {
     "data": {
      "text/html": [
       "<pre style=\"white-space:pre;overflow-x:auto;line-height:normal;font-family:Menlo,'DejaVu Sans Mono',consolas,'Courier New',monospace\"><span style=\"font-weight: bold\"> Total params: </span><span style=\"color: #00af00; text-decoration-color: #00af00\">1,885,358</span> (7.19 MB)\n",
       "</pre>\n"
      ],
      "text/plain": [
       "\u001b[1m Total params: \u001b[0m\u001b[38;5;34m1,885,358\u001b[0m (7.19 MB)\n"
      ]
     },
     "metadata": {},
     "output_type": "display_data"
    },
    {
     "data": {
      "text/html": [
       "<pre style=\"white-space:pre;overflow-x:auto;line-height:normal;font-family:Menlo,'DejaVu Sans Mono',consolas,'Courier New',monospace\"><span style=\"font-weight: bold\"> Trainable params: </span><span style=\"color: #00af00; text-decoration-color: #00af00\">1,885,358</span> (7.19 MB)\n",
       "</pre>\n"
      ],
      "text/plain": [
       "\u001b[1m Trainable params: \u001b[0m\u001b[38;5;34m1,885,358\u001b[0m (7.19 MB)\n"
      ]
     },
     "metadata": {},
     "output_type": "display_data"
    },
    {
     "data": {
      "text/html": [
       "<pre style=\"white-space:pre;overflow-x:auto;line-height:normal;font-family:Menlo,'DejaVu Sans Mono',consolas,'Courier New',monospace\"><span style=\"font-weight: bold\"> Non-trainable params: </span><span style=\"color: #00af00; text-decoration-color: #00af00\">0</span> (0.00 B)\n",
       "</pre>\n"
      ],
      "text/plain": [
       "\u001b[1m Non-trainable params: \u001b[0m\u001b[38;5;34m0\u001b[0m (0.00 B)\n"
      ]
     },
     "metadata": {},
     "output_type": "display_data"
    },
    {
     "name": "stdout",
     "output_type": "stream",
     "text": [
      "Epoch 1/5\n",
      "\u001b[1m225/225\u001b[0m \u001b[32m━━━━━━━━━━━━━━━━━━━━\u001b[0m\u001b[37m\u001b[0m \u001b[1m7s\u001b[0m 24ms/step - accuracy: 0.4356 - loss: 2.2070 - val_accuracy: 0.6210 - val_loss: 1.5375\n",
      "Epoch 2/5\n",
      "\u001b[1m225/225\u001b[0m \u001b[32m━━━━━━━━━━━━━━━━━━━━\u001b[0m\u001b[37m\u001b[0m \u001b[1m5s\u001b[0m 22ms/step - accuracy: 0.7107 - loss: 1.1489 - val_accuracy: 0.7006 - val_loss: 1.3360\n",
      "Epoch 3/5\n",
      "\u001b[1m225/225\u001b[0m \u001b[32m━━━━━━━━━━━━━━━━━━━━\u001b[0m\u001b[37m\u001b[0m \u001b[1m5s\u001b[0m 22ms/step - accuracy: 0.9408 - loss: 0.3037 - val_accuracy: 0.6912 - val_loss: 1.4825\n",
      "Epoch 4/5\n",
      "\u001b[1m225/225\u001b[0m \u001b[32m━━━━━━━━━━━━━━━━━━━━\u001b[0m\u001b[37m\u001b[0m \u001b[1m6s\u001b[0m 25ms/step - accuracy: 0.9578 - loss: 0.1949 - val_accuracy: 0.6834 - val_loss: 1.5330\n",
      "Epoch 5/5\n",
      "\u001b[1m225/225\u001b[0m \u001b[32m━━━━━━━━━━━━━━━━━━━━\u001b[0m\u001b[37m\u001b[0m \u001b[1m5s\u001b[0m 23ms/step - accuracy: 0.9702 - loss: 0.1299 - val_accuracy: 0.6956 - val_loss: 1.4944\n",
      "Test Loss: 1.6010810136795044\n",
      "Test Accuracy: 0.6745324730873108\n",
      "\u001b[1m71/71\u001b[0m \u001b[32m━━━━━━━━━━━━━━━━━━━━\u001b[0m\u001b[37m\u001b[0m \u001b[1m0s\u001b[0m 4ms/step\n",
      "              precision    recall  f1-score   support\n",
      "\n",
      "           0       0.29      0.17      0.21        12\n",
      "           1       0.45      0.80      0.57       105\n",
      "           2       0.00      0.00      0.00        20\n",
      "           3       0.82      0.93      0.87       813\n",
      "           4       0.75      0.83      0.79       474\n",
      "           5       0.00      0.00      0.00         5\n",
      "           6       1.00      0.29      0.44        14\n",
      "           7       1.00      0.33      0.50         3\n",
      "           8       0.59      0.45      0.51        38\n",
      "           9       0.50      0.08      0.14        25\n",
      "          10       0.75      0.20      0.32        30\n",
      "          11       0.40      0.66      0.50        83\n",
      "          12       0.50      0.15      0.24        13\n",
      "          13       0.22      0.19      0.20        37\n",
      "          14       0.00      0.00      0.00         2\n",
      "          15       0.00      0.00      0.00         9\n",
      "          16       0.59      0.47      0.53        99\n",
      "          17       0.00      0.00      0.00        12\n",
      "          18       0.50      0.20      0.29        20\n",
      "          19       0.50      0.62      0.56       133\n",
      "          20       0.45      0.36      0.40        70\n",
      "          21       0.22      0.26      0.24        27\n",
      "          22       0.00      0.00      0.00         7\n",
      "          23       0.00      0.00      0.00        12\n",
      "          24       0.25      0.05      0.09        19\n",
      "          25       0.62      0.16      0.26        31\n",
      "          26       0.00      0.00      0.00         8\n",
      "          27       0.00      0.00      0.00         4\n",
      "          28       0.00      0.00      0.00        10\n",
      "          29       0.00      0.00      0.00         4\n",
      "          30       0.00      0.00      0.00        12\n",
      "          31       0.00      0.00      0.00        13\n",
      "          32       0.50      0.10      0.17        10\n",
      "          33       0.00      0.00      0.00         5\n",
      "          34       0.00      0.00      0.00         7\n",
      "          35       1.00      0.17      0.29         6\n",
      "          36       0.20      0.09      0.12        11\n",
      "          37       0.00      0.00      0.00         2\n",
      "          38       0.00      0.00      0.00         3\n",
      "          39       0.00      0.00      0.00         5\n",
      "          40       1.00      0.10      0.18        10\n",
      "          41       0.00      0.00      0.00         8\n",
      "          42       0.00      0.00      0.00         3\n",
      "          43       1.00      0.33      0.50         6\n",
      "          44       1.00      0.80      0.89         5\n",
      "          45       1.00      1.00      1.00         1\n",
      "\n",
      "    accuracy                           0.67      2246\n",
      "   macro avg       0.35      0.21      0.23      2246\n",
      "weighted avg       0.63      0.67      0.64      2246\n",
      "\n"
     ]
    },
    {
     "name": "stderr",
     "output_type": "stream",
     "text": [
      "c:\\Users\\pltel\\Documents\\IA-DeepLearning\\.venv\\Lib\\site-packages\\sklearn\\metrics\\_classification.py:1531: UndefinedMetricWarning: Precision is ill-defined and being set to 0.0 in labels with no predicted samples. Use `zero_division` parameter to control this behavior.\n",
      "  _warn_prf(average, modifier, f\"{metric.capitalize()} is\", len(result))\n",
      "c:\\Users\\pltel\\Documents\\IA-DeepLearning\\.venv\\Lib\\site-packages\\sklearn\\metrics\\_classification.py:1531: UndefinedMetricWarning: Precision is ill-defined and being set to 0.0 in labels with no predicted samples. Use `zero_division` parameter to control this behavior.\n",
      "  _warn_prf(average, modifier, f\"{metric.capitalize()} is\", len(result))\n",
      "c:\\Users\\pltel\\Documents\\IA-DeepLearning\\.venv\\Lib\\site-packages\\sklearn\\metrics\\_classification.py:1531: UndefinedMetricWarning: Precision is ill-defined and being set to 0.0 in labels with no predicted samples. Use `zero_division` parameter to control this behavior.\n",
      "  _warn_prf(average, modifier, f\"{metric.capitalize()} is\", len(result))\n"
     ]
    },
    {
     "data": {
      "image/png": "[encoded data removed]",
      "text/plain": [
       "<Figure size 1200x400 with 2 Axes>"
      ]
     },
     "metadata": {},
     "output_type": "display_data"
    }
   ],
   "source": [
    "import tensorflow as tf\n",
    "from tensorflow.keras.models import Sequential\n",
    "from tensorflow.keras.layers import Embedding, Dense, Flatten\n",
    "from tensorflow.keras.callbacks import TensorBoard\n",
    "import datetime\n",
    "import pandas as pd\n",
    "from sklearn.metrics import classification_report\n",
    "import matplotlib.pyplot as plt\n",
    "\n",
    "# Définir les paramètres du modèle\n",
    "num_words = 10000  # Exemple de valeur, ajustez selon vos besoins\n",
    "max_length = 100  # Exemple de valeur, ajustez selon vos besoins\n",
    "\n",
    "# Définir les hyperparamètres\n",
    "embedding_dim = 128\n",
    "num_neurons = 128\n",
    "num_layers = 1\n",
    "learning_rate = 0.001\n",
    "epochs = 5\n",
    "\n",
    "# Fonction pour créer le modèle avec des hyperparamètres modifiables\n",
    "model = Sequential()\n",
    "model.add(InputLayer(shape=(100,)))\n",
    "model.add(Embedding(input_dim=num_words, output_dim=embedding_dim, input_length=max_length))\n",
    "for _ in range(num_layers):\n",
    "    model.add(Dense(num_neurons, activation='relu'))\n",
    "model.add(Flatten())\n",
    "model.add(Dense(46, activation='softmax'))  # 46 classes dans le jeu de données Reuters\n",
    "\n",
    "# Compiler le modèle avec un taux d'apprentissage modifiable\n",
    "optimizer = tf.keras.optimizers.Adam(learning_rate=learning_rate)\n",
    "model.compile(optimizer=optimizer, loss='sparse_categorical_crossentropy', metrics=['accuracy'])\n",
    "\n",
    "\n",
    "# Afficher le résumé du modèle\n",
    "model.summary()\n",
    "\n",
    "# Définir un répertoire de logs pour TensorBoard avec des noms significatifs\n",
    "log_dir = f\"logs/fit/emb{embedding_dim}_neurons{num_neurons}_layers{num_layers}_lr{learning_rate}_epochs{epochs}_{datetime.datetime.now().strftime('%Y%m%d-%H%M%S')}\"\n",
    "tensorboard_callback = TensorBoard(log_dir=log_dir, histogram_freq=1)\n",
    "\n",
    "# Entraîner le modèle avec le callback TensorBoard\n",
    "history = model.fit(X_train_padded, y_train, epochs=epochs, batch_size=32, validation_data=(X_val_padded, y_val), callbacks=[tensorboard_callback])\n",
    "\n",
    "# Évaluer le modèle sur les données de test\n",
    "test_loss, test_accuracy = model.evaluate(X_test_padded, y_test, verbose=0)\n",
    "print(f\"Test Loss: {test_loss}\")\n",
    "print(f\"Test Accuracy: {test_accuracy}\")\n",
    "\n",
    "# Prédictions sur les données de test\n",
    "y_pred = model.predict(X_test_padded)\n",
    "y_pred_classes = y_pred.argmax(axis=-1)\n",
    "\n",
    "# Rapport de classification\n",
    "print(classification_report(y_test, y_pred_classes))\n",
    "\n",
    "# Visualiser l'historique de l'entraînement\n",
    "plt.figure(figsize=(12, 4))\n",
    "plt.subplot(1, 2, 1)\n",
    "plt.plot(history.history['accuracy'], label='Train Accuracy')\n",
    "plt.plot(history.history['val_accuracy'], label='Validation Accuracy')\n",
    "plt.xlabel('Epochs')\n",
    "plt.ylabel('Accuracy')\n",
    "plt.legend()\n",
    "plt.title('Accuracy over Epochs')\n",
    "\n",
    "plt.subplot(1, 2, 2)\n",
    "plt.plot(history.history['loss'], label='Train Loss')\n",
    "plt.plot(history.history['val_loss'], label='Validation Loss')\n",
    "plt.xlabel('Epochs')\n",
    "plt.ylabel('Loss')\n",
    "plt.legend()\n",
    "plt.title('Loss over Epochs')\n",
    "\n",
    "plt.show()\n"
   ]
  }
 ],
 "metadata": {
  "kernelspec": {
   "display_name": ".venv",
   "language": "python",
   "name": "python3"
  },
  "language_info": {
   "codemirror_mode": {
    "name": "ipython",
    "version": 3
   },
   "file_extension": ".py",
   "mimetype": "text/x-python",
   "name": "python",
   "nbconvert_exporter": "python",
   "pygments_lexer": "ipython3",
   "version": "3.11.0"
  }
 },
 "nbformat": 4,
 "nbformat_minor": 2
}
